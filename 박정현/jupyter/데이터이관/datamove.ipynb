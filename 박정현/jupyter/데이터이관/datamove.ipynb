{
 "cells": [
  {
   "cell_type": "code",
   "execution_count": 81,
   "id": "de8e9565-ed5f-4a84-b507-c85f73512cc0",
   "metadata": {
    "tags": []
   },
   "outputs": [],
   "source": [
    "import pandas as pd\n",
    "import numpy as np\n",
    "import pymysql\n",
    "from sqlalchemy import create_engine, text\n",
    "pd.options.display.float_format = '{:.5f}'.format"
   ]
  },
  {
   "cell_type": "code",
   "execution_count": 82,
   "id": "5c2f7844-df58-4fa4-b43b-7bd4b133906a",
   "metadata": {
    "tags": []
   },
   "outputs": [],
   "source": [
    "protocol =\"mysql+pymysql://\"\n",
    "user = \"root\"\n",
    "password = \"1234\"\n",
    "host = \"localhost\"\n",
    "port = \"3306\"\n",
    "db = \"teamproject\"\n",
    "con_str = f\"{protocol}{user}:{password}@{host}:{port}/{db}\" \n",
    "conn = create_engine(con_str)"
   ]
  },
  {
   "cell_type": "code",
   "execution_count": 83,
   "id": "f151b1f4-1eba-4236-8d0b-46099aa300cc",
   "metadata": {},
   "outputs": [],
   "source": [
    "Sales_region = pd.read_csv('지역별 전기판매량.csv')\n",
    "Sales_BF = pd.read_csv('지역별_인상전_후_판매금액.csv')\n",
    "Generation = pd.read_csv('지역별 발전량.csv')\n",
    "Sales_use = pd.read_csv('2021용도별전기판매량.csv')\n",
    "Dept = pd.read_excel('한전부채.xlsx')\n",
    "Statement = pd.read_excel('한전손익계산서.xlsx')\n",
    "Dept_BF = pd.read_excel('연도별_인상전후_부채.xlsx')"
   ]
  },
  {
   "cell_type": "code",
   "execution_count": 84,
   "id": "358974a3-0402-478d-9ad2-3da38d11fce5",
   "metadata": {},
   "outputs": [],
   "source": [
    "#데이터 가공"
   ]
  },
  {
   "cell_type": "code",
   "execution_count": 85,
   "id": "6e5c99f7-f715-4794-bcfc-8e56afb7be93",
   "metadata": {
    "tags": []
   },
   "outputs": [],
   "source": [
    "Sales_region.columns = ['지역','2018년','2019년','2020년','2021년']"
   ]
  },
  {
   "cell_type": "code",
   "execution_count": 86,
   "id": "35fd4dd3-8576-41b5-bf7c-b757a2fda4b8",
   "metadata": {
    "tags": []
   },
   "outputs": [],
   "source": [
    "Sales_BF = Sales_BF.reset_index()\n",
    "Sales_BF.columns = ['구분','지역','산업용판매량','인상후판매금액','인상전판매금액']\n",
    "Sales_BF = Sales_BF.iloc[:-1,:]"
   ]
  },
  {
   "cell_type": "code",
   "execution_count": 87,
   "id": "0a0d0816-b346-4699-b60f-3f423f296783",
   "metadata": {
    "tags": []
   },
   "outputs": [],
   "source": [
    "Generation = Generation.reset_index()\n",
    "Generation.columns = ['구분','지역','2018년','2019년','2020년','2021년']"
   ]
  },
  {
   "cell_type": "code",
   "execution_count": 88,
   "id": "4a26d47b-76e8-48f4-ab02-4f6c09a760d8",
   "metadata": {
    "tags": []
   },
   "outputs": [],
   "source": [
    "Sales_use = Sales_use.transpose().reset_index()\n",
    "Sales_use.columns = ['구분','주거용전기판매량합계','업무용전기판매량합계','산업용전기판매량합계']\n",
    "Sales_use.iloc[0,0] = 2021"
   ]
  },
  {
   "cell_type": "code",
   "execution_count": 89,
   "id": "11c011cd-f2e7-410b-9c68-3d0f2a296349",
   "metadata": {
    "tags": []
   },
   "outputs": [],
   "source": [
    "Dept = Dept.transpose().reset_index()\n",
    "Dept = Dept.iloc[:,1:]\n",
    "Dept.columns = Dept.iloc[0,:]\n",
    "Dept = Dept.iloc[2:,[0,1,2,5,6,7,8,9]]\n",
    "Dept.columns = ['연도','회계기준','총자산','총금융부채','기타부채','총부채','외화부채','환율_USD']"
   ]
  },
  {
   "cell_type": "code",
   "execution_count": 90,
   "id": "483a8234-aa03-4f9b-bcf3-67839c28d60e",
   "metadata": {
    "tags": []
   },
   "outputs": [],
   "source": [
    "Statement = Statement.transpose().reset_index().reset_index()\n",
    "Statement.columns = ['구분','연도','매출액','매출원가','매출총이익','판매비와관리비',\n",
    "                     '영업이익','기타수익','기타비용','기타이익','금융수익','금융원가','종속기업_관계기업_관련이익',\n",
    "                     '법인세비용차감전순이익','법인세비용','당기순이익']\n",
    "Statement = Statement.iloc[1:,:]"
   ]
  },
  {
   "cell_type": "code",
   "execution_count": 91,
   "id": "8dd5691c-e574-4ca2-a322-80f984cc523f",
   "metadata": {
    "tags": []
   },
   "outputs": [],
   "source": [
    "#테이블 생성"
   ]
  },
  {
   "cell_type": "code",
   "execution_count": 92,
   "id": "ae48409a-cf4c-47cb-8a8a-056d0ef9cb9d",
   "metadata": {
    "tags": []
   },
   "outputs": [
    {
     "data": {
      "text/plain": [
       "<sqlalchemy.engine.cursor.LegacyCursorResult at 0x1d7d52b2890>"
      ]
     },
     "execution_count": 92,
     "metadata": {},
     "output_type": "execute_result"
    }
   ],
   "source": [
    "stmt = \"\"\"\n",
    "create table Sales_region(지역 VARCHAR(10) NOT NULL PRIMARY KEY,\n",
    "                         2018년 DOUBLE NOT NULL,\n",
    "                         2019년 DOUBLE NOT NULL,\n",
    "                         2020년 DOUBLE NOT NULL,\n",
    "                         2021년 DOUBLE NOT NULL\n",
    "                         )\n",
    "\"\"\"\n",
    "conn.execute(stmt)"
   ]
  },
  {
   "cell_type": "code",
   "execution_count": 93,
   "id": "afc09160-f0ab-4558-9d73-02c338ed66f3",
   "metadata": {
    "tags": []
   },
   "outputs": [
    {
     "data": {
      "text/plain": [
       "<sqlalchemy.engine.cursor.LegacyCursorResult at 0x1d7d5183410>"
      ]
     },
     "execution_count": 93,
     "metadata": {},
     "output_type": "execute_result"
    }
   ],
   "source": [
    "stmt = \"\"\"\n",
    "create table Sales_amount(구분 INT NOT NULL PRIMARY KEY,\n",
    "                         지역 VARCHAR(10) NOT NULL,\n",
    "                         산업용판매량 DOUBLE NOT NULL,\n",
    "                         인상후판매금액 DOUBLE NOT NULL,\n",
    "                         인상전판매금액 DOUBLE NOT NULL\n",
    "                         )\n",
    "\"\"\"\n",
    "conn.execute(stmt)"
   ]
  },
  {
   "cell_type": "code",
   "execution_count": 94,
   "id": "603de35c-d2cd-49d7-8840-df57c079fcd8",
   "metadata": {
    "tags": []
   },
   "outputs": [
    {
     "data": {
      "text/plain": [
       "<sqlalchemy.engine.cursor.LegacyCursorResult at 0x1d7d5180490>"
      ]
     },
     "execution_count": 94,
     "metadata": {},
     "output_type": "execute_result"
    }
   ],
   "source": [
    "stmt = \"\"\"\n",
    "create table Generation_region(구분 INT NOT NULL PRIMARY KEY,\n",
    "                                지역 VARCHAR(10) NOT NULL,\n",
    "                                2018년 DOUBLE NOT NULL,\n",
    "                                2019년 DOUBLE NOT NULL,\n",
    "                                2020년 DOUBLE NOT NULL,\n",
    "                                2021년 DOUBLE NOT NULL\n",
    "                                )\n",
    "\"\"\"\n",
    "conn.execute(stmt)"
   ]
  },
  {
   "cell_type": "code",
   "execution_count": 95,
   "id": "4d8056b4-1100-405c-9766-502176e0fcc7",
   "metadata": {
    "tags": []
   },
   "outputs": [
    {
     "data": {
      "text/plain": [
       "<sqlalchemy.engine.cursor.LegacyCursorResult at 0x1d7d53decd0>"
      ]
     },
     "execution_count": 95,
     "metadata": {},
     "output_type": "execute_result"
    }
   ],
   "source": [
    "stmt = \"\"\"\n",
    "create table Sales_use(구분 INT NOT NULL PRIMARY KEY,\n",
    "                        주거용전기판매량합계 DOUBLE NOT NULL,\n",
    "                        업무용전기판매량합계 DOUBLE NOT NULL,\n",
    "                        산업용전기판매량합계 DOUBLE NOT NULL\n",
    "                        )\n",
    "\"\"\"\n",
    "conn.execute(stmt)"
   ]
  },
  {
   "cell_type": "code",
   "execution_count": 96,
   "id": "7f47c567-d491-4002-81af-ff00023bc566",
   "metadata": {
    "tags": []
   },
   "outputs": [
    {
     "data": {
      "text/plain": [
       "<sqlalchemy.engine.cursor.LegacyCursorResult at 0x1d7d53de450>"
      ]
     },
     "execution_count": 96,
     "metadata": {},
     "output_type": "execute_result"
    }
   ],
   "source": [
    "stmt = \"\"\"\n",
    "create table Dept(연도 INT NOT NULL PRIMARY KEY,\n",
    "                        회계기준 VARCHAR(10) NOT NULL,\n",
    "                        총자산 FLOAT NOT NULL,\n",
    "                        총금융부채 INT NOT NULL,\n",
    "                        기타부채 INT NOT NULL,\n",
    "                        총부채 FLOAT NOT NULL,\n",
    "                        외화부채 FLOAT NOT NULL,\n",
    "                        환율_USD FLOAT NOT NULL\n",
    "                        )\n",
    "\"\"\"\n",
    "conn.execute(stmt)"
   ]
  },
  {
   "cell_type": "code",
   "execution_count": 97,
   "id": "d1b61c43-aeff-41d4-9ea1-c57db98a9f4f",
   "metadata": {
    "tags": []
   },
   "outputs": [
    {
     "data": {
      "text/plain": [
       "<sqlalchemy.engine.cursor.LegacyCursorResult at 0x1d7d53dd090>"
      ]
     },
     "execution_count": 97,
     "metadata": {},
     "output_type": "execute_result"
    }
   ],
   "source": [
    "stmt = \"\"\"\n",
    "create table Statement(구분 INT NOT NULL PRIMARY KEY,\n",
    "                        연도 INT NOT NULL,\n",
    "                        매출액 INT NOT NULL,\n",
    "                        매출원가 INT NOT NULL,\n",
    "                        매출총이익 INT NOT NULL,\n",
    "                        판매비와관리비 INT NOT NULL,\n",
    "                        영업이익 INT NOT NULL,\n",
    "                        기타수익 INT NOT NULL,\n",
    "                        기타비용 INT NOT NULL,\n",
    "                        기타이익 INT NOT NULL,\n",
    "                        금융수익 INT NOT NULL,\n",
    "                        금융원가 INT NOT NULL,\n",
    "                        종속기업_관계기업_관련이익 INT NOT NULL,\n",
    "                        법인세비용차감전순이익 INT NOT NULL,\n",
    "                        법인세비용 INT NOT NULL,\n",
    "                        당기순이익 INT NOT NULL\n",
    "                        )\n",
    "\"\"\"\n",
    "conn.execute(stmt)"
   ]
  },
  {
   "cell_type": "code",
   "execution_count": 98,
   "id": "a263d4ed-9637-4603-81dc-7bbf7154475e",
   "metadata": {
    "tags": []
   },
   "outputs": [
    {
     "data": {
      "text/plain": [
       "<sqlalchemy.engine.cursor.LegacyCursorResult at 0x1d7d4f72f50>"
      ]
     },
     "execution_count": 98,
     "metadata": {},
     "output_type": "execute_result"
    }
   ],
   "source": [
    "stmt = \"\"\"\n",
    "create table Dept_BF(연도 INT NOT NULL PRIMARY KEY,\n",
    "                        연차 INT NOT NULL,\n",
    "                        인상전후판매금액차이 DOUBLE NOT NULL,\n",
    "                        부채삭감추이 DOUBLE NOT NULL\n",
    "                        )\n",
    "\"\"\"\n",
    "conn.execute(stmt)"
   ]
  },
  {
   "cell_type": "code",
   "execution_count": 99,
   "id": "bdc86195-2e17-4101-80a8-74b85d25c558",
   "metadata": {
    "tags": []
   },
   "outputs": [],
   "source": [
    "#외래키 지정"
   ]
  },
  {
   "cell_type": "code",
   "execution_count": 100,
   "id": "eb37c7b7-9408-46cc-b1fe-60ace68dcc1e",
   "metadata": {
    "tags": []
   },
   "outputs": [
    {
     "data": {
      "text/plain": [
       "<sqlalchemy.engine.cursor.LegacyCursorResult at 0x1d7d53dc810>"
      ]
     },
     "execution_count": 100,
     "metadata": {},
     "output_type": "execute_result"
    }
   ],
   "source": [
    "stmt = '''\n",
    "ALTER TABLE `Sales_amount` ADD CONSTRAINT `FK_Sales_amount` FOREIGN KEY (`지역`) REFERENCES `Sales_region` (`지역`);\n",
    "'''\n",
    "conn.execute(stmt)"
   ]
  },
  {
   "cell_type": "code",
   "execution_count": 101,
   "id": "2a054bfd-ff1c-4f77-bef0-7e818a453f7e",
   "metadata": {
    "tags": []
   },
   "outputs": [
    {
     "data": {
      "text/plain": [
       "<sqlalchemy.engine.cursor.LegacyCursorResult at 0x1d7d53c9790>"
      ]
     },
     "execution_count": 101,
     "metadata": {},
     "output_type": "execute_result"
    }
   ],
   "source": [
    "stmt = '''\n",
    "ALTER TABLE `Generation_region` ADD CONSTRAINT `FK_Generation_region` FOREIGN KEY (`지역`) REFERENCES `Sales_region` (`지역`);\n",
    "'''\n",
    "conn.execute(stmt)"
   ]
  },
  {
   "cell_type": "code",
   "execution_count": 102,
   "id": "e884eab0-36e7-4dab-899a-5feaa9fe1a92",
   "metadata": {
    "tags": []
   },
   "outputs": [
    {
     "data": {
      "text/plain": [
       "<sqlalchemy.engine.cursor.LegacyCursorResult at 0x1d7d53de0d0>"
      ]
     },
     "execution_count": 102,
     "metadata": {},
     "output_type": "execute_result"
    }
   ],
   "source": [
    "stmt = '''\n",
    "ALTER TABLE `Statement` ADD CONSTRAINT `FK_Statement` FOREIGN KEY (`연도`) REFERENCES `Dept` (`연도`);\n",
    "'''\n",
    "conn.execute(stmt)"
   ]
  },
  {
   "cell_type": "code",
   "execution_count": 103,
   "id": "d7326edb-14df-4cca-bfa1-1cfa4316de61",
   "metadata": {
    "tags": []
   },
   "outputs": [],
   "source": [
    "#값 DB에 저장"
   ]
  },
  {
   "cell_type": "code",
   "execution_count": 104,
   "id": "cf48cf62-447c-4795-9c5f-b207ce87b246",
   "metadata": {
    "tags": []
   },
   "outputs": [],
   "source": [
    "sql = \"\"\"\n",
    "insert into sales_region(지역,2018년,2019년,2020년,2021년)\n",
    "values(\n",
    ":지역,\n",
    ":2018년,\n",
    ":2019년,\n",
    ":2020년,\n",
    ":2021년\n",
    ")\"\"\"\n",
    "for param in Sales_region.iloc[:,:].to_dict('records'):\n",
    "    conn.execute(text(sql),param)"
   ]
  },
  {
   "cell_type": "code",
   "execution_count": 105,
   "id": "b0941de0-75b3-4c2e-aada-b6c1724bb037",
   "metadata": {
    "tags": []
   },
   "outputs": [],
   "source": [
    "sql = \"\"\"\n",
    "insert into Sales_amount(구분,지역,산업용판매량,인상후판매금액,인상전판매금액)\n",
    "values(\n",
    ":구분,\n",
    ":지역,\n",
    ":산업용판매량,\n",
    ":인상후판매금액,\n",
    ":인상전판매금액\n",
    ")\"\"\"\n",
    "for param in Sales_BF.iloc[:,:].to_dict('records'):\n",
    "    conn.execute(text(sql),param)"
   ]
  },
  {
   "cell_type": "code",
   "execution_count": 106,
   "id": "48065c09-11a8-4cb9-bf05-d6eaae900d2c",
   "metadata": {
    "tags": []
   },
   "outputs": [],
   "source": [
    "sql = \"\"\"\n",
    "insert into Generation_region(구분,지역,2018년,2019년,2020년,2021년)\n",
    "values(\n",
    ":구분,\n",
    ":지역,\n",
    ":2018년,\n",
    ":2019년,\n",
    ":2020년,\n",
    ":2021년\n",
    ")\"\"\"\n",
    "for param in Generation.iloc[:,:].to_dict('records'):\n",
    "    conn.execute(text(sql),param)"
   ]
  },
  {
   "cell_type": "code",
   "execution_count": 107,
   "id": "49e335a5-4c12-43c7-8b0b-446cc446e9d6",
   "metadata": {
    "tags": []
   },
   "outputs": [],
   "source": [
    "sql = \"\"\"\n",
    "insert into Sales_use(구분,주거용전기판매량합계,업무용전기판매량합계,산업용전기판매량합계)\n",
    "values(\n",
    ":구분,\n",
    ":주거용전기판매량합계,\n",
    ":업무용전기판매량합계,\n",
    ":산업용전기판매량합계\n",
    ")\"\"\"\n",
    "for param in Sales_use.iloc[:,:].to_dict('records'):\n",
    "    conn.execute(text(sql),param)"
   ]
  },
  {
   "cell_type": "code",
   "execution_count": 108,
   "id": "e0367a4b-a604-4012-9175-2d8e5de6916a",
   "metadata": {
    "tags": []
   },
   "outputs": [],
   "source": [
    "sql = \"\"\"\n",
    "insert into Dept(연도,회계기준,총자산,총금융부채,기타부채,총부채,외화부채,환율_USD)\n",
    "values(\n",
    ":연도,\n",
    ":회계기준,\n",
    ":총자산,\n",
    ":총금융부채,\n",
    ":기타부채,\n",
    ":총부채,\n",
    ":외화부채,\n",
    ":환율_USD\n",
    ")\"\"\"\n",
    "for param in Dept.iloc[:,:].to_dict('records'):\n",
    "    conn.execute(text(sql),param)"
   ]
  },
  {
   "cell_type": "code",
   "execution_count": 109,
   "id": "f6aa3f85-b000-4881-a116-d382c0e2d4ee",
   "metadata": {
    "tags": []
   },
   "outputs": [],
   "source": [
    "sql = \"\"\"\n",
    "insert into Statement(구분,연도,매출액,매출원가,매출총이익,판매비와관리비,영업이익,기타수익,기타비용,기타이익,금융수익,금융원가,종속기업_관계기업_관련이익,\n",
    "법인세비용차감전순이익,법인세비용,당기순이익)\n",
    "values(\n",
    ":구분,\n",
    ":연도,\n",
    ":매출액,\n",
    ":매출원가,\n",
    ":매출총이익,\n",
    ":판매비와관리비,\n",
    ":영업이익,\n",
    ":기타수익,\n",
    ":기타비용,\n",
    ":기타이익,\n",
    ":금융수익,\n",
    ":금융원가,\n",
    ":종속기업_관계기업_관련이익,\n",
    ":법인세비용차감전순이익,\n",
    ":법인세비용,\n",
    ":당기순이익\n",
    ")\"\"\"\n",
    "for param in Statement.iloc[:,:].to_dict('records'):\n",
    "    conn.execute(text(sql),param)"
   ]
  },
  {
   "cell_type": "code",
   "execution_count": 110,
   "id": "9a08633a-4ca7-40e7-8a7d-2cd318bc92ce",
   "metadata": {
    "tags": []
   },
   "outputs": [],
   "source": [
    "sql = \"\"\"\n",
    "insert into Dept_BF(연도,연차,인상전후판매금액차이,부채삭감추이)\n",
    "values(\n",
    ":연도,\n",
    ":연차,\n",
    ":인상전후판매금액차이,\n",
    ":부채삭감추이\n",
    ")\"\"\"\n",
    "for param in Dept_BF.iloc[:,:].to_dict('records'):\n",
    "    conn.execute(text(sql),param)"
   ]
  }
 ],
 "metadata": {
  "kernelspec": {
   "display_name": "Python 3 (ipykernel)",
   "language": "python",
   "name": "python3"
  },
  "language_info": {
   "codemirror_mode": {
    "name": "ipython",
    "version": 3
   },
   "file_extension": ".py",
   "mimetype": "text/x-python",
   "name": "python",
   "nbconvert_exporter": "python",
   "pygments_lexer": "ipython3",
   "version": "3.11.4"
  }
 },
 "nbformat": 4,
 "nbformat_minor": 5
}
